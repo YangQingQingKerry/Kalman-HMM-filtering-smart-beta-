{
 "cells": [
  {
   "cell_type": "code",
   "execution_count": 1,
   "metadata": {},
   "outputs": [
    {
     "name": "stdout",
     "output_type": "stream",
     "text": [
      "The current working directory is /Users/kerry921005/Kalman-HMM-filtering-smart-beta-\n",
      "Successfully created the directory /Users/kerry921005/Kalman-HMM-filtering-smart-beta-/data/pca\n"
     ]
    }
   ],
   "source": [
    "%load_ext autoreload\n",
    "%autoreload 1\n",
    "%aimport  data_input_format\n",
    "import data_input_format as dif\n",
    "\n",
    "dif.indexExcel()\n",
    "dir_url='./data/pca/pca_tsx60.xlsx'\n",
    "dif.etfExcel(dir_url)"
   ]
  },
  {
   "cell_type": "markdown",
   "metadata": {},
   "source": [
    "---"
   ]
  }
 ],
 "metadata": {
  "kernelspec": {
   "display_name": "Python 3",
   "language": "python",
   "name": "python3"
  },
  "language_info": {
   "codemirror_mode": {
    "name": "ipython",
    "version": 3
   },
   "file_extension": ".py",
   "mimetype": "text/x-python",
   "name": "python",
   "nbconvert_exporter": "python",
   "pygments_lexer": "ipython3",
   "version": "3.6.8"
  }
 },
 "nbformat": 4,
 "nbformat_minor": 2
}
