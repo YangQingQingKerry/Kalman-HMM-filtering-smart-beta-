{
 "cells": [
  {
   "cell_type": "code",
   "execution_count": 1,
   "metadata": {},
   "outputs": [
    {
     "name": "stdout",
     "output_type": "stream",
     "text": [
      "-547.3384811598447\n",
      "     fun: -595.8405531643288\n",
      "     jac: array([-2.02712784e+01, -2.02727661e+01, -2.26232605e+01, -2.26284943e+01,\n",
      "        3.45382690e-02, -5.49850464e-02, -1.21322632e-01, -5.03692627e-02,\n",
      "       -9.14764404e-03,  4.80651855e-03,  4.80651855e-03, -1.34429932e-02,\n",
      "       -1.64260864e-02,  1.23214722e-02, -1.29623413e-02, -6.04171753e-02,\n",
      "        1.75476074e-02, -5.59768677e-02, -2.69851685e-02,  2.13861084e+00,\n",
      "        1.46276855e+00, -1.46998596e+00,  2.28739166e+00,  3.83880615e-01,\n",
      "       -4.98013306e+00, -1.06468201e-01, -1.69702911e+00,  8.24157715e-01,\n",
      "        5.22247314e-01,  1.35204315e+00, -9.16793823e-01, -5.36567688e-01])\n",
      " message: 'Optimization terminated successfully.'\n",
      "    nfev: 3280\n",
      "     nit: 92\n",
      "    njev: 92\n",
      "  status: 0\n",
      " success: True\n",
      "       x: array([ 7.32714639e-01,  2.67285361e-01,  2.59207909e-01,  7.40792091e-01,\n",
      "        5.82033693e-03, -5.63329828e-03,  1.03754005e-03,  3.44315233e-03,\n",
      "       -5.51281764e-03, -6.91035431e-03, -2.07932859e-03, -2.13263868e-03,\n",
      "       -1.35441643e-02,  6.13788049e-03, -8.94719925e-04, -1.45789084e-05,\n",
      "        1.47876450e-02, -3.18800542e-04,  1.49992357e-03,  2.43261274e-04,\n",
      "        3.14434283e-04,  2.33572057e-04,  3.41468489e-04,  5.91763922e-04,\n",
      "        2.08544351e-04,  1.09296839e-02,  9.55980696e-04,  2.07274361e-03,\n",
      "        2.05005134e-03,  1.51921024e-03,  1.53901414e-03,  9.53861099e-04])\n"
     ]
    }
   ],
   "source": [
    "from initial_MLE import * \n",
    "\n",
    "if __name__==\"__main__\":\n",
    "    args=[0.6,0.4,0.3,0.7]\n",
    "    tns=42\n",
    "    ins=MLE(tns)\n",
    "\n",
    "    df=ins.r.iloc[:tns]\n",
    "    mu=[0]*(ins.k*2)\n",
    "    sigma= list(df.std().values**2)+list(df.std().values**2+0.01) #0.01: disturbance\n",
    "    args=args+mu+sigma\n",
    "\n",
    "    print(ins.obj(args))\n",
    "    print(ins.optimz(args))\n",
    "\n",
    "    pd.DataFrame(df.mean().values).to_excel('./output/init_mle/1_mean.xlsx')\n",
    "    pd.DataFrame(df.std().values**2).to_excel('./output/init_mle/1_var.xlsx')"
   ]
  },
  {
   "cell_type": "markdown",
   "metadata": {},
   "source": [
    "---"
   ]
  }
 ],
 "metadata": {
  "kernelspec": {
   "display_name": "Python 3",
   "language": "python",
   "name": "python3"
  },
  "language_info": {
   "codemirror_mode": {
    "name": "ipython",
    "version": 3
   },
   "file_extension": ".py",
   "mimetype": "text/x-python",
   "name": "python",
   "nbconvert_exporter": "python",
   "pygments_lexer": "ipython3",
   "version": "3.6.8"
  }
 },
 "nbformat": 4,
 "nbformat_minor": 2
}
