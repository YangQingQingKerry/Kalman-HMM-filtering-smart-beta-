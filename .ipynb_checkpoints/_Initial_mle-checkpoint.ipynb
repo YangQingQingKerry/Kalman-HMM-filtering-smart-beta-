{
 "cells": [
  {
   "cell_type": "code",
   "execution_count": 1,
   "metadata": {},
   "outputs": [
    {
     "name": "stdout",
     "output_type": "stream",
     "text": [
      "-612.0170334232884\n",
      "     fun: -614.5921936141837\n",
      "     jac: array([-1.02040863e+00, -1.04637909e+00, -4.00892868e+01, -4.91967010e+01,\n",
      "        0.00000000e+00,  0.00000000e+00,  0.00000000e+00,  0.00000000e+00,\n",
      "        0.00000000e+00,  0.00000000e+00,  0.00000000e+00, -7.30255127e-01,\n",
      "        1.14916992e+00, -9.63050842e-01,  5.85961151e+00, -7.16491699e-01,\n",
      "       -4.18856049e+00, -1.86840820e+00, -1.01318359e+00, -4.32670593e-01,\n",
      "        7.88879395e-03, -1.68144989e+00,  5.03780365e+00,  3.27148438e-02,\n",
      "       -5.84162140e+00, -2.14511871e+00,  8.72795105e-01, -2.97288513e+00,\n",
      "        6.61770630e+00, -2.52311707e+00, -5.43208313e+00, -3.30414581e+00,\n",
      "        7.12904951e+03,  7.03255818e+03,  7.16838797e+03,  2.36764977e+03,\n",
      "        6.79123785e+03,  4.11691403e+03,  3.34646049e+03, -1.52280579e+01,\n",
      "       -3.31154327e+01,  4.66350708e+01,  1.83747177e+01, -4.47534943e+00,\n",
      "        1.93212364e+02,  2.82798721e+02])\n",
      " message: 'Optimization terminated successfully.'\n",
      "    nfev: 3214\n",
      "     nit: 65\n",
      "    njev: 62\n",
      "  status: 0\n",
      " success: True\n",
      "       x: array([4.43218194e-02, 9.55678181e-01, 2.43251558e-02, 9.75674844e-01,\n",
      "       7.54023231e-01, 5.60718409e-01, 8.81936316e-01, 6.93977534e-01,\n",
      "       4.99627885e-01, 7.94829752e-01, 5.93107941e-02, 9.17893954e-01,\n",
      "       9.19423520e-01, 8.67781169e-01, 7.56344284e-01, 8.34748734e-01,\n",
      "       9.45691166e-01, 9.20014903e-01, 4.16750274e-01, 7.69942372e-01,\n",
      "       2.00944114e-01, 8.91391806e-01, 4.30540314e-01, 4.37148382e-01,\n",
      "       6.55606343e-01, 3.07816216e-02, 4.06339292e-02, 4.57980182e-02,\n",
      "       1.85350690e-01, 4.11052543e-02, 4.39845888e-02, 4.00943923e-02,\n",
      "       7.01230812e-05, 7.10894900e-05, 6.97432422e-05, 2.11046423e-04,\n",
      "       7.34795532e-05, 1.21442727e-04, 1.48646282e-04, 2.76757926e-03,\n",
      "       3.43401109e-04, 1.01382266e-03, 5.16010447e-03, 3.19007503e-03,\n",
      "       2.96961269e-03, 1.56778652e-03])\n"
     ]
    }
   ],
   "source": [
    "from initial_MLE import * \n",
    "\n",
    "if __name__==\"__main__\":\n",
    "    '''  \n",
    "    args=[0.5,0.5,0.5,0.5]\n",
    "    '''  \n",
    "    tns=50\n",
    "    ins=MLE(tns)\n",
    "    df=ins.f.iloc[:tns]\n",
    "    '''  \n",
    "    kappa=[1]*(2*ins.k)\n",
    "    gamma=[0.]*(ins.k*2)\n",
    "    sigma=  list(df.std().values**2)+ list(df.std().values**2+0.04)\n",
    "    args=args+kappa+gamma+sigma\n",
    "    '''\n",
    "    args_df=pd.read_excel('./output/init_mle/arg.xlsx')\n",
    "    args=args_df[0].values\n",
    "\n",
    "    oj=ins.obj(args)\n",
    "    op=ins.optimz(args)\n",
    "    while not op.success:\n",
    "        args_df=pd.read_excel('./output/init_mle/arg.xlsx')\n",
    "        args=args_df[0].values\n",
    "        oj=ins.obj(args)\n",
    "        op=ins.optimz(args)\n",
    "    \n",
    "    print(oj)\n",
    "    print(op)\n",
    "\n",
    "    df_1=df.shift(1).fillna(0)\n",
    "    Tt=(df*df_1).sum()\n",
    "    T=df.sum()\n",
    "    t=df_1.sum()\n",
    "    t2=(df_1**2).sum()\n",
    "    alpha=(tns*Tt-T*t)/(tns*t2-t**2)\n",
    "    theta=(Tt-alpha*t2)/t\n",
    "    rm=df-alpha*df_1-theta\n",
    "    eta_2=(rm**2).sum()/tns\n",
    "    alpha.to_excel('./output/init_mle/1_alpha.xlsx')\n",
    "    theta.to_excel('./output/init_mle/1_theta.xlsx')\n",
    "    eta_2.to_excel('./output/init_mle/1_eta_2.xlsx')\n"
   ]
  },
  {
   "cell_type": "markdown",
   "metadata": {},
   "source": [
    "---"
   ]
  }
 ],
 "metadata": {
  "kernelspec": {
   "display_name": "Python 3",
   "language": "python",
   "name": "python3"
  },
  "language_info": {
   "codemirror_mode": {
    "name": "ipython",
    "version": 3
   },
   "file_extension": ".py",
   "mimetype": "text/x-python",
   "name": "python",
   "nbconvert_exporter": "python",
   "pygments_lexer": "ipython3",
   "version": "3.6.8"
  }
 },
 "nbformat": 4,
 "nbformat_minor": 2
}
