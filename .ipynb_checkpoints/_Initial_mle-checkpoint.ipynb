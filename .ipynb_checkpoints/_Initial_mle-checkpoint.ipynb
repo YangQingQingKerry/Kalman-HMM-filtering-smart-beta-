{
 "cells": [
  {
   "cell_type": "code",
   "execution_count": 1,
   "metadata": {},
   "outputs": [
    {
     "name": "stdout",
     "output_type": "stream",
     "text": [
      "-211.47175076916506\n",
      "     fun: -240.65499650236583\n",
      "     jac: array([-2.20035152e+01, -2.20044708e+01, -4.06686535e+01, -4.06676598e+01,\n",
      "       -2.70843506e-04, -1.11007690e-03, -4.58335876e-03,  2.09808350e-04,\n",
      "        2.86102295e-05, -6.59942627e-04, -3.63159180e-03, -6.10733032e-03,\n",
      "       -1.67198181e-01, -7.65228271e-03, -1.12228394e-02,  2.00920105e-02,\n",
      "       -3.81641388e-02,  2.31424332e-01,  2.94870377e+00, -1.09439850e-01,\n",
      "       -1.72672272e-02, -2.56933212e-01])\n",
      " message: 'Optimization terminated successfully.'\n",
      "    nfev: 1635\n",
      "     nit: 65\n",
      "    njev: 65\n",
      "  status: 0\n",
      " success: True\n",
      "       x: array([ 4.51694676e-02,  9.54830532e-01,  5.31892950e-01,  4.68107050e-01,\n",
      "        2.88100935e-01,  9.57313730e-01,  3.79347446e-03, -1.82841897e-01,\n",
      "        4.34221641e-02,  1.16118700e-01,  3.54622291e-02,  2.08025151e-02,\n",
      "       -1.45329145e-02,  1.29137339e-02,  1.03457690e-02, -7.56797605e-04,\n",
      "        6.70702720e-03,  4.47477894e-03,  1.39007161e-04,  1.30154079e-02,\n",
      "        7.20703940e-03,  2.41771734e-03])\n"
     ]
    }
   ],
   "source": [
    "from initial_MLE import * \n",
    "\n",
    "if __name__==\"__main__\":\n",
    "    args=[0.5,0.5,0.5,0.5]\n",
    "    tns=63\n",
    "    ins=MLE(tns)\n",
    "\n",
    "    df=ins.r.iloc[:tns]\n",
    "    kappa=[0]*(2*ins.k)\n",
    "    gamma=[0.]*(ins.k*2)\n",
    "    sigma= list(df.std().values**2) +list(df.std().values**2+0.01)\n",
    "    args=args+kappa+gamma+sigma\n",
    "\n",
    "\n",
    "    print(ins.obj(args))\n",
    "    print(ins.optimz(args))\n",
    "\n",
    "\n",
    "    pd.DataFrame(df.mean().values).to_excel('./output/init_mle/1_mean.xlsx')\n",
    "    pd.DataFrame(df.std().values**2).to_excel('./output/init_mle/1_var.xlsx')"
   ]
  },
  {
   "cell_type": "markdown",
   "metadata": {},
   "source": [
    "---"
   ]
  }
 ],
 "metadata": {
  "kernelspec": {
   "display_name": "Python 3",
   "language": "python",
   "name": "python3"
  },
  "language_info": {
   "codemirror_mode": {
    "name": "ipython",
    "version": 3
   },
   "file_extension": ".py",
   "mimetype": "text/x-python",
   "name": "python",
   "nbconvert_exporter": "python",
   "pygments_lexer": "ipython3",
   "version": "3.6.8"
  }
 },
 "nbformat": 4,
 "nbformat_minor": 2
}
